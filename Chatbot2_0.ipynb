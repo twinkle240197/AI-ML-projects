{
  "nbformat": 4,
  "nbformat_minor": 0,
  "metadata": {
    "colab": {
      "provenance": [],
      "authorship_tag": "ABX9TyPFAbzzEEayYy0DAu8MDXFh",
      "include_colab_link": true
    },
    "kernelspec": {
      "name": "python3",
      "display_name": "Python 3"
    },
    "language_info": {
      "name": "python"
    }
  },
  "cells": [
    {
      "cell_type": "markdown",
      "metadata": {
        "id": "view-in-github",
        "colab_type": "text"
      },
      "source": [
        "<a href=\"https://colab.research.google.com/github/twinkle240197/ML-projects/blob/main/Chatbot2_0.ipynb\" target=\"_parent\"><img src=\"https://colab.research.google.com/assets/colab-badge.svg\" alt=\"Open In Colab\"/></a>"
      ]
    },
    {
      "cell_type": "code",
      "execution_count": null,
      "metadata": {
        "id": "q0AK8DzL87Xy"
      },
      "outputs": [],
      "source": []
    },
    {
      "cell_type": "code",
      "source": [
        "import numpy as np\n",
        "\n",
        "import re\n",
        "import time"
      ],
      "metadata": {
        "id": "DWGenZPjvbhM"
      },
      "execution_count": null,
      "outputs": []
    },
    {
      "cell_type": "code",
      "source": [
        "import tensorflow as tf\n"
      ],
      "metadata": {
        "id": "OYs2NO5Kzuaz"
      },
      "execution_count": null,
      "outputs": []
    },
    {
      "cell_type": "code",
      "source": [
        "from google.colab import drive\n",
        "drive.mount ('/content/gdrive', force_remount=True)"
      ],
      "metadata": {
        "colab": {
          "base_uri": "https://localhost:8080/"
        },
        "id": "YnkNTla_6FcU",
        "outputId": "5b57f451-47ca-4718-b730-b2c21dd28066"
      },
      "execution_count": null,
      "outputs": [
        {
          "output_type": "stream",
          "name": "stdout",
          "text": [
            "Mounted at /content/gdrive\n"
          ]
        }
      ]
    },
    {
      "cell_type": "code",
      "source": [
        "lines=open('gdrive/MyDrive/movie_lines.txt',encoding='utf-8',errors='ignore').read().split('\\n')\n",
        "conversations=open('gdrive/MyDrive/movie_conversations.txt',encoding='utf-8',errors='ignore').read().split('\\n')"
      ],
      "metadata": {
        "id": "RjcwwqK13wWd"
      },
      "execution_count": null,
      "outputs": []
    },
    {
      "cell_type": "code",
      "source": [
        "id2line={}\n",
        "for line in lines:\n",
        " _line=line.split(' +++$+++ ')\n",
        " if len(_line)==5:\n",
        "   id2line[_line[0]]=_line[4]"
      ],
      "metadata": {
        "id": "rZW9h4Go3qDc"
      },
      "execution_count": null,
      "outputs": []
    },
    {
      "cell_type": "code",
      "source": [
        "conversations_ids=[]\n",
        "for conversation in conversations[ :-1]:\n",
        " _conversation=conversation.split(' +++$+++ ')[-1][1:-1].replace(\"'\",\"\").replace(\" \",\"\")\n",
        " conversations_ids.append(_conversation.split(\",\"))"
      ],
      "metadata": {
        "id": "YgkBLA5A6CRI"
      },
      "execution_count": null,
      "outputs": []
    },
    {
      "cell_type": "code",
      "source": [
        "questions=[]\n",
        "answers=[]\n",
        "for conversation in conversations_ids:\n",
        "   for i in range(len(conversation)-1):\n",
        "     questions.append(id2line[conversation[i]])\n",
        "     answers.append(id2line[conversation[i+1]])"
      ],
      "metadata": {
        "id": "gCPH_F-a7nFs"
      },
      "execution_count": null,
      "outputs": []
    },
    {
      "cell_type": "code",
      "source": [
        "def clean_text(text):\n",
        "  text=text.lower()\n",
        "  text=re.sub(r\"i'm\",\"i am\",text)\n",
        "  text=re.sub(r\"he's\",\"he is\",text)\n",
        "  text=re.sub(r\"she's\",\"she is\",text)\n",
        "  text=re.sub(r\"that's\",\"that is\",text)\n",
        "  text=re.sub(r\"what's\",\"what is\",text)\n",
        "  text=re.sub(r\"\\'ll\",\" will\",text)\n",
        "  text=re.sub(r\"\\'ve\",\" have\",text)\n",
        "  text=re.sub(r\"\\'re\",\" are\",text)\n",
        "  text=re.sub(r\"\\'d\",\" would\",text)\n",
        "  text=re.sub(r\"won't\",\"will not\",text)\n",
        "  text=re.sub(r\"can't\",\"cannot\",text)\n",
        "  text=re.sub(r\"[-()\\\"#/@:;<>+-=|.?]\",\"\",text)\n",
        "  return text"
      ],
      "metadata": {
        "id": "JSmrsh_Tk-Qb"
      },
      "execution_count": null,
      "outputs": []
    },
    {
      "cell_type": "code",
      "source": [
        "clean_questions=[]\n",
        "for question in questions:\n",
        "  clean_questions.append(clean_text(question))\n",
        "clean_answers=[]\n",
        "for answer in answers:\n",
        "  clean_answers.append(clean_text(answer))\n"
      ],
      "metadata": {
        "id": "un0bUqUiqPkF"
      },
      "execution_count": null,
      "outputs": []
    },
    {
      "cell_type": "code",
      "source": [
        "word2count={}\n",
        "for question in clean_questions:\n",
        "   for word in question.split():\n",
        "     if word not in word2count:\n",
        "       word2count[word]=1\n",
        "     else:\n",
        "       word2count[word]+=1\n",
        "for answer in clean_answers:\n",
        "   for word in answer.split():\n",
        "     if word not in word2count:\n",
        "       word2count[word]=1\n",
        "     else:\n",
        "       word2count[word]+=1"
      ],
      "metadata": {
        "id": "1lq3VSyUrAk5"
      },
      "execution_count": null,
      "outputs": []
    },
    {
      "cell_type": "code",
      "source": [
        "threshold=20\n",
        "questionswords2int={}\n",
        "word_number=0\n",
        "for word,count in word2count.items():\n",
        "  if count>=threshold:\n",
        "    questionswords2int[word]=word_number\n",
        "    word_number+=1\n",
        "answerswords2int={}\n",
        "word_number=0\n",
        "for word,count in word2count.items():\n",
        "  if count>=threshold:\n",
        "    answerswords2int[word]=word_number\n",
        "    word_number+=1"
      ],
      "metadata": {
        "id": "Z1X89mPJvN8r"
      },
      "execution_count": null,
      "outputs": []
    },
    {
      "cell_type": "code",
      "source": [
        "tokens=['<PAD>','<EOS>','<OUT>','<SOS>']\n",
        "for token in tokens:\n",
        "  questionswords2int[token]=len(questionswords2int)+1\n",
        "for token in tokens:\n",
        "  answerswords2int[token]=len(answerswords2int)+1"
      ],
      "metadata": {
        "id": "ftQ2lSx7wgvt"
      },
      "execution_count": null,
      "outputs": []
    },
    {
      "cell_type": "code",
      "source": [
        "answersints2word= {w_i:w for w,w_i in answerswords2int.items()}"
      ],
      "metadata": {
        "id": "J-izMCeqyCrX"
      },
      "execution_count": null,
      "outputs": []
    },
    {
      "cell_type": "code",
      "source": [
        "for i in range(len(clean_answers)):\n",
        "  clean_answers[i]+= '<EOS>'"
      ],
      "metadata": {
        "id": "4HdEgqs7zFxo"
      },
      "execution_count": null,
      "outputs": []
    },
    {
      "cell_type": "code",
      "source": [
        "questions_to_int=[]\n",
        "for question in clean_questions:\n",
        "   ints=[]\n",
        "   for word in question.split():\n",
        "     if word not in questionswords2int:\n",
        "       ints.append(questionswords2int['<OUT>'])\n",
        "     else:\n",
        "       ints.append(questionswords2int[word])\n",
        "   questions_to_int.append(ints)\n",
        "answers_to_int=[]\n",
        "for answer in clean_answers:\n",
        "   ints=[]\n",
        "   for word in answer.split():\n",
        "     if word not in answerswords2int:\n",
        "       ints.append(answerswords2int['<OUT>'])\n",
        "     else:\n",
        "       ints.append(answerswords2int[word])\n",
        "   answers_to_int.append(ints)\n",
        "   "
      ],
      "metadata": {
        "id": "oi5v0HJKz4AV"
      },
      "execution_count": null,
      "outputs": []
    },
    {
      "cell_type": "code",
      "source": [
        "sorted_clean_questions=[]\n",
        "sorted_clean_answers=[]\n",
        "for length in range(1,25+1):\n",
        "  for i in enumerate(questions_to_int):\n",
        "    if len(i[1])==length:\n",
        "      sorted_clean_questions.append(questions_to_int[i[0]])\n",
        "      sorted_clean_questions.append(answers_to_int[i[0]])\n",
        "\n"
      ],
      "metadata": {
        "id": "ee-ko5Z_1o0i"
      },
      "execution_count": null,
      "outputs": []
    },
    {
      "cell_type": "code",
      "source": [
        "def model_inputs():\n",
        "  inputs=tf.compat.v1.placeholder(tf.int32,[None,None],name='input')\n",
        "  targets=tf.compat.v1.placeholder(tf.int32,[None,None],name='target')\n",
        "  lr=tf.compat.v1.placeholder(tf.float32,name='learning_rate')\n",
        "  keep_prob=tf.compat.v1.placeholderr(tf.float32,name='keep_prob')\n",
        "  return inputs,targets,lr,keep_prob\n"
      ],
      "metadata": {
        "id": "vASojUHY9Eip"
      },
      "execution_count": null,
      "outputs": []
    },
    {
      "cell_type": "code",
      "source": [
        "def preprocess_targets(targets,word2int,batch_size):\n",
        "  left_side=tf.fill([batch_size,1],word2int['<SOS>'])\n",
        "  right_side=tf.strided_slices(targets,[0,0],[batch_size,-1],[1,1])\n",
        "  preprocessed_targets = tf.concat([left_side,right_side],1)\n",
        "  return preprocessed_targets"
      ],
      "metadata": {
        "id": "v_g57M1B6oyX"
      },
      "execution_count": null,
      "outputs": []
    },
    {
      "cell_type": "code",
      "source": [
        "def encoder_rnn(rnn_impute,rnn_size,rnn_layers,keep_prob,sequence_length):\n",
        "  lstm=tf.compat.v1.nn.rnn_cell.BasicLSTMCell(rnn_size)\n",
        "  lstm_dropout=tf.compat.v1.nn.rnn_cell.DropoutWrapper(lstm,input_keep_prob=keep_prob)\n",
        "  encoder_cell=tf.compat.v1.nn.rnn_cell.MultiRNNCell([lstm_dropout]*num_layers)\n",
        "  _, encoder_state=tf.nn.bidirectional_dynamic_rnn(cell_fw=encoder_cell,\n",
        "                                                   cell_bw=encoder_cell,\n",
        "                                                   sequence_length=sequence_length,\n",
        "                                                   inputs=rnn_inputs,\n",
        "                                                   dtype=tf.float32)\n",
        "  return encoder_state"
      ],
      "metadata": {
        "id": "Fj68JDMq4Ht1"
      },
      "execution_count": null,
      "outputs": []
    },
    {
      "cell_type": "code",
      "source": [
        "def decode_training_set(encoder_state,decoder_cell,decoder_embedded_input,sequence_length,decoding_scope,output_function,keep_prob,batch_size):\n",
        " attention_states=tf.zeros([batch_size,1,decoder_cell.output_size])\n",
        " attention_keys, attention_values,attention_score_function,attention_construct_function= tf.contrib.seq2seq.prepare_attention(attention_states,attention_option=\"bahdanua\",num_units=decoder_cell.output_size)\n",
        " training_decoder_function=tf.contrib.seq2seq.attention_decoder_fn_train(encoder_state[0],attention_keys,attention_values,attention_score_function,attention_construct_function,name='attn_dec_train')\n",
        " decoder_output,decoder_final_state,decoder_final_context_state=tf.contrib.seq2seq.dynamic_rnn_decoder(decoder_cell,training_decoder_function,decoder_embedded_input,sequence_length,scope=decoding_scope)\n",
        " decoder_output_dropout=tf.nn.dropout(decoder_output,keep_prob)\n",
        " return output_function(decoder_output_dropout)"
      ],
      "metadata": {
        "id": "6RAubGTW7owh"
      },
      "execution_count": null,
      "outputs": []
    },
    {
      "cell_type": "code",
      "source": [
        "def decode_test_set(encoder_state,decoder_cell,decoder_embeddings_matrix,sos_id,eos_id,maximum_length,num_words,sequence_length,decoding_scope,output_function,keep_prob,batch_size):\n",
        " attention_states=tf.zeros([batch_size,1,decoder_cell.output_size])\n",
        " attention_keys, attention_values,attention_score_function,attention_construct_function= tf.contrib.seq2seq.prepare_attention(attention_states,attention_option=\"bahdanua\",num_units=decoder_cell.output_size)\n",
        " test_decoder_function=tf.contrib.seq2seq.attention_decoder_fn_inference(output_function,encoder_state[0],attention_keys,attention_values,attention_score_function,attention_construct_function,decoder_embeddings_matrix,sos_id,eos_id,maximum_length,num_words,name='attn_dec_inf')\n",
        " test_predictions,decoder_final_state,decoder_final_context_state=tf.contrib.seq2seq.dynamic_rnn_decoder(decoder_cell,test_decoder_function,scope=decoding_scope)\n",
        "\n",
        " return test_predictions"
      ],
      "metadata": {
        "id": "3lpWoIwKCVX9"
      },
      "execution_count": null,
      "outputs": []
    },
    {
      "cell_type": "code",
      "source": [
        "def decoder_rnn(decoder_embedded_input,decoder_enbeddings_matrix,encoder_state,num_words,sequence_length,rnn_size,num_layers,word2int,keep_prob,batch_size):\n",
        "  with tf.variable_scope(\"decoding\")as decoding_scope:\n",
        "   lstm=tf.contrib.rnn.BasicLSTMCell(run_size)\n",
        "   lstm_dropout=tf.contrib.rnn.DropoutWrapper(lstm,input_keep_prob=keep_prob)\n",
        "   decoder_cell=tf.contrib.rnn.MultiRNNCell([lstm_dropout]*num_layers)\n",
        "   weights=tf.truncated_normal_initializer(std=0.1)\n",
        "   biases=tf.zeros_initializer()\n",
        "   output_function=lambda x:tf.contrib.layers.fully_connected(x,\n",
        "                                                              num_words,\n",
        "                                                              None,\n",
        "                                                              scope=decoding_scope,\n",
        "                                                              weights_initializer=weights,\n",
        "                                                              biases_initializer=biases)\n",
        "   training_predictions=decode_training_set(encoder_state,\n",
        "                                            decoder_cell,\n",
        "                                            decoder_embedded_input,\n",
        "                                            sequence_length,\n",
        "                                            decoding_scope,\n",
        "                                            output_function,\n",
        "                                            keep_prob,\n",
        "                                            batch_size)\n",
        "   decoding_scope.reuse_variables()\n",
        "   test_predictions=decode_test_set(encoder_state,\n",
        "                                    decoder_cell,\n",
        "                                    decoder_embeddings_matrix,\n",
        "                                    word2int['<SOS>'],\n",
        "                                    word2int['<EOS>'],\n",
        "                                    sequence_length-1,\n",
        "                                    num_words,\n",
        "                                    decoding_scope,\n",
        "                                    output_function,\n",
        "                                    keep_prob,\n",
        "                                    batch_size)\n",
        "   return training_predictions,test_predictions\n",
        "\n",
        "   "
      ],
      "metadata": {
        "id": "u5LIf6ATGrD4"
      },
      "execution_count": null,
      "outputs": []
    },
    {
      "cell_type": "code",
      "source": [
        "def seq2seq_model(inputs,targets,keep_prob,batch_size,sequence_length,answers_num_words,questions_num_words,encoder_embedding_size,decoder_embedding_size,rnn_size,num_layers,questionswords2int):\n",
        "  encoder_embedded_input=tf.contrib.layers.embed_sequence(inputs,\n",
        "                                                          answers_num_words+1,\n",
        "                                                          encoder_embedding_size,\n",
        "                                                          initializer=tf.random_uniform_initializer(0,1))\n",
        "  encoder_state=encoder_rnn(encoder_embedded_input,rnn_size,num_layers,keep_prob,sequence_length)\n",
        "  preprocessed_targets=preprocess_targets(targets,questionswords2int,batch_size)\n",
        "  decoder_embeddings_matrix=tf.Variable(tf.random_uniform([questions_num_words+1,decoder_embedding_size],0,1))\n",
        "  decoder_embedded_model=tf.nn.embedding_lookup(decoder_embeddings_matrix,preprocessed_targets)\n",
        "  training_predictions,test_predictions=decoder_rnn(decoder_embedded_input,decoder_enbeddings_matrix,encoder_state,questions_num_words,sequence_length,rnn_size,num_layers,questionswords2int,keep_prob,batch_size)\n",
        "  return training_predictions, test_predictions\n",
        "\n"
      ],
      "metadata": {
        "id": "VM7U31RGNwLg"
      },
      "execution_count": null,
      "outputs": []
    },
    {
      "cell_type": "code",
      "source": [
        "epochs=100\n",
        "batch_size=64\n",
        "rnn_size=512\n",
        "num_layers=3\n",
        "encoder_embedding_size=512\n",
        "decoder_embedding_size=512\n",
        "learning_rate=0.01\n",
        "learning_rate_decay=0.9\n",
        "min_learning_rate=0.0001\n",
        "keep_probability=0.5\n",
        "\n",
        "\n"
      ],
      "metadata": {
        "id": "Tp49h2zJWHjp"
      },
      "execution_count": null,
      "outputs": []
    },
    {
      "cell_type": "code",
      "source": [
        "tf.compat.v1.reset_default_graph() \n",
        "session=tf.compat.v1.InteractiveSession()"
      ],
      "metadata": {
        "id": "OmyG4HqKy6Hk"
      },
      "execution_count": null,
      "outputs": []
    },
    {
      "cell_type": "code",
      "source": [
        "inputs,targets,lr,keep_prob=model_inputs()"
      ],
      "metadata": {
        "id": "ZbReDB8kZHqE"
      },
      "execution_count": null,
      "outputs": []
    },
    {
      "cell_type": "code",
      "source": [
        "sequence_length=tf.placeholder_with_default(25,None,name=\"sequence_length\")"
      ],
      "metadata": {
        "id": "_wTBl0M0ZPio"
      },
      "execution_count": null,
      "outputs": []
    },
    {
      "cell_type": "code",
      "source": [
        "input_shape=tf.shape(inputs)"
      ],
      "metadata": {
        "id": "twufN5VpeuhH"
      },
      "execution_count": null,
      "outputs": []
    },
    {
      "cell_type": "code",
      "source": [
        "training_predictions, test_predictions= seq2seq_model(tf.reverse(inputs,[-1]),\n",
        "                                                      targets,\n",
        "                                                      keep_prob,\n",
        "                                                      batch_size,\n",
        "                                                      sequence_length,\n",
        "                                                      len(answerswords2int),\n",
        "                                                      len(questionswords2int),\n",
        "                                                      encoder_embedding_size,\n",
        "                                                      decoder_embedding_size,\n",
        "                                                      rnn_size,\n",
        "                                                      num_layers,\n",
        "                                                      questionswords2int)"
      ],
      "metadata": {
        "id": "X6JBV24PfAwG",
        "colab": {
          "base_uri": "https://localhost:8080/",
          "height": 377
        },
        "outputId": "028b6cfc-0d37-41a5-95fc-ccd3b350c49c"
      },
      "execution_count": null,
      "outputs": [
        {
          "output_type": "error",
          "ename": "AttributeError",
          "evalue": "ignored",
          "traceback": [
            "\u001b[0;31m---------------------------------------------------------------------------\u001b[0m",
            "\u001b[0;31mAttributeError\u001b[0m                            Traceback (most recent call last)",
            "\u001b[0;32m<ipython-input-84-ad2336f4477d>\u001b[0m in \u001b[0;36m<module>\u001b[0;34m\u001b[0m\n\u001b[1;32m     10\u001b[0m                                                       \u001b[0mrnn_size\u001b[0m\u001b[0;34m,\u001b[0m\u001b[0;34m\u001b[0m\u001b[0;34m\u001b[0m\u001b[0m\n\u001b[1;32m     11\u001b[0m                                                       \u001b[0mnum_layers\u001b[0m\u001b[0;34m,\u001b[0m\u001b[0;34m\u001b[0m\u001b[0;34m\u001b[0m\u001b[0m\n\u001b[0;32m---> 12\u001b[0;31m                                                       questionswords2int)\n\u001b[0m",
            "\u001b[0;32m<ipython-input-76-d372e14da46b>\u001b[0m in \u001b[0;36mseq2seq_model\u001b[0;34m(inputs, targets, keep_prob, batch_size, sequence_length, answers_num_words, questions_num_words, encoder_embedding_size, decoder_embedding_size, rnn_size, num_layers, questionswords2int)\u001b[0m\n\u001b[1;32m      1\u001b[0m \u001b[0;32mdef\u001b[0m \u001b[0mseq2seq_model\u001b[0m\u001b[0;34m(\u001b[0m\u001b[0minputs\u001b[0m\u001b[0;34m,\u001b[0m\u001b[0mtargets\u001b[0m\u001b[0;34m,\u001b[0m\u001b[0mkeep_prob\u001b[0m\u001b[0;34m,\u001b[0m\u001b[0mbatch_size\u001b[0m\u001b[0;34m,\u001b[0m\u001b[0msequence_length\u001b[0m\u001b[0;34m,\u001b[0m\u001b[0manswers_num_words\u001b[0m\u001b[0;34m,\u001b[0m\u001b[0mquestions_num_words\u001b[0m\u001b[0;34m,\u001b[0m\u001b[0mencoder_embedding_size\u001b[0m\u001b[0;34m,\u001b[0m\u001b[0mdecoder_embedding_size\u001b[0m\u001b[0;34m,\u001b[0m\u001b[0mrnn_size\u001b[0m\u001b[0;34m,\u001b[0m\u001b[0mnum_layers\u001b[0m\u001b[0;34m,\u001b[0m\u001b[0mquestionswords2int\u001b[0m\u001b[0;34m)\u001b[0m\u001b[0;34m:\u001b[0m\u001b[0;34m\u001b[0m\u001b[0;34m\u001b[0m\u001b[0m\n\u001b[0;32m----> 2\u001b[0;31m   encoder_embedded_input=tf.contrib.layers.embed_sequence(inputs,\n\u001b[0m\u001b[1;32m      3\u001b[0m                                                           \u001b[0manswers_num_words\u001b[0m\u001b[0;34m+\u001b[0m\u001b[0;36m1\u001b[0m\u001b[0;34m,\u001b[0m\u001b[0;34m\u001b[0m\u001b[0;34m\u001b[0m\u001b[0m\n\u001b[1;32m      4\u001b[0m                                                           \u001b[0mencoder_embedding_size\u001b[0m\u001b[0;34m,\u001b[0m\u001b[0;34m\u001b[0m\u001b[0;34m\u001b[0m\u001b[0m\n\u001b[1;32m      5\u001b[0m                                                           initializer=tf.random_uniform_initializer(0,1))\n",
            "\u001b[0;31mAttributeError\u001b[0m: module 'tensorflow' has no attribute 'contrib'"
          ]
        }
      ]
    },
    {
      "cell_type": "code",
      "source": [
        "with tf.name_scope(\"optimization\"):\n",
        "    loss_error = tf.contrib.seq2seq.sequence_loss(training_predictions,\n",
        "                                                  targets,\n",
        "                                                  tf.ones([input_shape[0], sequence_length]))\n",
        "    optimizer = tf.train.AdamOptimizer(learning_rate)\n",
        "    gradients = optimizer.compute_gradients(loss_error)\n",
        "    clipped_gradients = [(tf.clip_by_value(grad_tensor, -5., 5.), grad_variable) for grad_tensor, grad_variable in gradients if grad_tensor is not None]\n",
        "    optimizer_gradient_clipping = optimizer.apply_gradients(clipped_gradients)"
      ],
      "metadata": {
        "colab": {
          "base_uri": "https://localhost:8080/",
          "height": 357
        },
        "id": "xQIZBeleg1CK",
        "outputId": "bd0ef0cb-c167-4170-bb90-cf2691a4bf4e"
      },
      "execution_count": null,
      "outputs": [
        {
          "output_type": "error",
          "ename": "AttributeError",
          "evalue": "ignored",
          "traceback": [
            "\u001b[0;31m---------------------------------------------------------------------------\u001b[0m",
            "\u001b[0;31mAttributeError\u001b[0m                            Traceback (most recent call last)",
            "\u001b[0;32m<ipython-input-69-770088c97842>\u001b[0m in \u001b[0;36m<module>\u001b[0;34m\u001b[0m\n\u001b[1;32m      1\u001b[0m \u001b[0;32mwith\u001b[0m \u001b[0mtf\u001b[0m\u001b[0;34m.\u001b[0m\u001b[0mname_scope\u001b[0m\u001b[0;34m(\u001b[0m\u001b[0;34m\"optimization\"\u001b[0m\u001b[0;34m)\u001b[0m\u001b[0;34m:\u001b[0m\u001b[0;34m\u001b[0m\u001b[0;34m\u001b[0m\u001b[0m\n\u001b[0;32m----> 2\u001b[0;31m     loss_error = tf.compat.v1.estimator.seq2seq.sequence_loss(training_predictions,\n\u001b[0m\u001b[1;32m      3\u001b[0m                                                   \u001b[0mtargets\u001b[0m\u001b[0;34m,\u001b[0m\u001b[0;34m\u001b[0m\u001b[0;34m\u001b[0m\u001b[0m\n\u001b[1;32m      4\u001b[0m                                                   tf.ones([input_shape[0], sequence_length]))\n\u001b[1;32m      5\u001b[0m     \u001b[0moptimizer\u001b[0m \u001b[0;34m=\u001b[0m \u001b[0mtf\u001b[0m\u001b[0;34m.\u001b[0m\u001b[0mtrain\u001b[0m\u001b[0;34m.\u001b[0m\u001b[0mAdamOptimizer\u001b[0m\u001b[0;34m(\u001b[0m\u001b[0mlearning_rate\u001b[0m\u001b[0;34m)\u001b[0m\u001b[0;34m\u001b[0m\u001b[0;34m\u001b[0m\u001b[0m\n",
            "\u001b[0;32m/usr/local/lib/python3.7/dist-packages/tensorflow/python/util/module_wrapper.py\u001b[0m in \u001b[0;36m_getattr\u001b[0;34m(self, name)\u001b[0m\n\u001b[1;32m    230\u001b[0m     \"\"\"\n\u001b[1;32m    231\u001b[0m     \u001b[0;32mtry\u001b[0m\u001b[0;34m:\u001b[0m\u001b[0;34m\u001b[0m\u001b[0;34m\u001b[0m\u001b[0m\n\u001b[0;32m--> 232\u001b[0;31m       \u001b[0mattr\u001b[0m \u001b[0;34m=\u001b[0m \u001b[0mgetattr\u001b[0m\u001b[0;34m(\u001b[0m\u001b[0mself\u001b[0m\u001b[0;34m.\u001b[0m\u001b[0m_tfmw_wrapped_module\u001b[0m\u001b[0;34m,\u001b[0m \u001b[0mname\u001b[0m\u001b[0;34m)\u001b[0m\u001b[0;34m\u001b[0m\u001b[0;34m\u001b[0m\u001b[0m\n\u001b[0m\u001b[1;32m    233\u001b[0m     \u001b[0;32mexcept\u001b[0m \u001b[0mAttributeError\u001b[0m\u001b[0;34m:\u001b[0m\u001b[0;34m\u001b[0m\u001b[0;34m\u001b[0m\u001b[0m\n\u001b[1;32m    234\u001b[0m     \u001b[0;31m# Placeholder for Google-internal contrib error\u001b[0m\u001b[0;34m\u001b[0m\u001b[0;34m\u001b[0m\u001b[0;34m\u001b[0m\u001b[0m\n",
            "\u001b[0;31mAttributeError\u001b[0m: module 'tensorflow_estimator.python.estimator.api._v1.estimator' has no attribute 'seq2seq'"
          ]
        }
      ]
    },
    {
      "cell_type": "code",
      "source": [
        "def apply_padding(batch_of_sequences, word2int):\n",
        "    max_sequence_length = max([len(sequence) for sequence in batch_of_sequences])\n",
        "    return [sequence + [word2int['<PAD>']] * (max_sequence_length - len(sequence)) for sequence in batch_of_sequences]"
      ],
      "metadata": {
        "id": "swwtA229hgAw"
      },
      "execution_count": null,
      "outputs": []
    },
    {
      "cell_type": "code",
      "source": [
        "# Splitting the data into batches of questions and answers\n",
        "def split_into_batches(questions, answers, batch_size):\n",
        "    for batch_index in range(0, len(questions) // batch_size):\n",
        "        start_index = batch_index * batch_size\n",
        "        questions_in_batch = questions[start_index : start_index + batch_size]\n",
        "        answers_in_batch = answers[start_index : start_index + batch_size]\n",
        "        padded_questions_in_batch = np.array(apply_padding(questions_in_batch, questionswords2int))\n",
        "        padded_answers_in_batch = np.array(apply_padding(answers_in_batch, answerswords2int))\n",
        "        yield padded_questions_in_batch, padded_answers_in_batch"
      ],
      "metadata": {
        "id": "7Rg3vqYbhlR8"
      },
      "execution_count": null,
      "outputs": []
    },
    {
      "cell_type": "code",
      "source": [
        "# Splitting the questions and answers into training and validation sets\n",
        "training_validation_split = int(len(sorted_clean_questions) * 0.15)\n",
        "training_questions = sorted_clean_questions[training_validation_split:]\n",
        "training_answers = sorted_clean_answers[training_validation_split:]\n",
        "validation_questions = sorted_clean_questions[:training_validation_split]\n",
        "validation_answers = sorted_clean_answers[:training_validation_split]"
      ],
      "metadata": {
        "id": "PBUWxtBdhxSz"
      },
      "execution_count": null,
      "outputs": []
    },
    {
      "cell_type": "code",
      "source": [
        "# Training\n",
        "batch_index_check_training_loss = 100\n",
        "batch_index_check_validation_loss = ((len(training_questions)) // batch_size // 2) - 1\n",
        "total_training_loss_error = 0\n",
        "list_validation_loss_error = []\n",
        "early_stopping_check = 0\n",
        "early_stopping_stop = 1000\n",
        "checkpoint = \"chatbot_weights.ckpt\" # For Windows users, replace this line of code by: checkpoint = \"./chatbot_weights.ckpt\"\n",
        "session.run(tf.global_variables_initializer())\n",
        "for epoch in range(1, epochs + 1):\n",
        "    for batch_index, (padded_questions_in_batch, padded_answers_in_batch) in enumerate(split_into_batches(training_questions, training_answers, batch_size)):\n",
        "        starting_time = time.time()\n",
        "        _, batch_training_loss_error = session.run([optimizer_gradient_clipping, loss_error], {inputs: padded_questions_in_batch,\n",
        "                                                                                               targets: padded_answers_in_batch,\n",
        "                                                                                               lr: learning_rate,\n",
        "                                                                                               sequence_length: padded_answers_in_batch.shape[1],\n",
        "                                                                                               keep_prob: keep_probability})\n",
        "        total_training_loss_error += batch_training_loss_error\n",
        "        ending_time = time.time()\n",
        "        batch_time = ending_time - starting_time\n",
        "        if batch_index % batch_index_check_training_loss == 0:\n",
        "            print('Epoch: {:>3}/{}, Batch: {:>4}/{}, Training Loss Error: {:>6.3f}, Training Time on 100 Batches: {:d} seconds'.format(epoch,\n",
        "                                                                                                                                       epochs,\n",
        "                                                                                                                                       batch_index,\n",
        "                                                                                                                                       len(training_questions) // batch_size,\n",
        "                                                                                                                                       total_training_loss_error / batch_index_check_training_loss,\n",
        "                                                                                                                                       int(batch_time * batch_index_check_training_loss)))\n",
        "            total_training_loss_error = 0\n",
        "        if batch_index % batch_index_check_validation_loss == 0 and batch_index > 0:\n",
        "            total_validation_loss_error = 0\n",
        "            starting_time = time.time()\n",
        "            for batch_index_validation, (padded_questions_in_batch, padded_answers_in_batch) in enumerate(split_into_batches(validation_questions, validation_answers, batch_size)):\n",
        "                batch_validation_loss_error = session.run(loss_error, {inputs: padded_questions_in_batch,\n",
        "                                                                       targets: padded_answers_in_batch,\n",
        "                                                                       lr: learning_rate,\n",
        "                                                                       sequence_length: padded_answers_in_batch.shape[1],\n",
        "                                                                       keep_prob: 1})\n",
        "                total_validation_loss_error += batch_validation_loss_error\n",
        "            ending_time = time.time()\n",
        "            batch_time = ending_time - starting_time\n",
        "            average_validation_loss_error = total_validation_loss_error / (len(validation_questions) / batch_size)\n",
        "            print('Validation Loss Error: {:>6.3f}, Batch Validation Time: {:d} seconds'.format(average_validation_loss_error, int(batch_time)))\n",
        "            learning_rate *= learning_rate_decay\n",
        "            if learning_rate < min_learning_rate:\n",
        "                learning_rate = min_learning_rate\n",
        "            list_validation_loss_error.append(average_validation_loss_error)\n",
        "            if average_validation_loss_error <= min(list_validation_loss_error):\n",
        "                print('I speak better now!!')\n",
        "                early_stopping_check = 0\n",
        "                saver = tf.train.Saver()\n",
        "                saver.save(session, checkpoint)\n",
        "            else:\n",
        "                print(\"Sorry I do not speak better, I need to practice more.\")\n",
        "                early_stopping_check += 1\n",
        "                if early_stopping_check == early_stopping_stop:\n",
        "                    break\n",
        "    if early_stopping_check == early_stopping_stop:\n",
        "        print(\"My apologies, I cannot speak better anymore. This is the best I can do.\")\n",
        "        break\n",
        "print(\"Game Over\")"
      ],
      "metadata": {
        "id": "lsuUZmrch26i"
      },
      "execution_count": null,
      "outputs": []
    },
    {
      "cell_type": "code",
      "source": [
        "########## PART 4 - TESTING THE SEQ2SEQ MODEL ##########\n",
        " \n",
        " \n",
        " \n",
        "# Loading the weights and Running the session\n",
        "checkpoint = \"./chatbot_weights.ckpt\"\n",
        "session = tf.InteractiveSession()\n",
        "session.run(tf.global_variables_initializer())\n",
        "saver = tf.train.Saver()\n",
        "saver.restore(session, checkpoint)\n",
        " \n",
        "# Converting the questions from strings to lists of encoding integers\n",
        "def convert_string2int(question, word2int):\n",
        "    question = clean_text(question)\n",
        "    return [word2int.get(word, word2int['<OUT>']) for word in question.split()]\n",
        " \n",
        "# Setting up the chat\n",
        "while(True):\n",
        "    question = input(\"You: \")\n",
        "    if question == 'Goodbye':\n",
        "        break\n",
        "    question = convert_string2int(question, questionswords2int)\n",
        "    question = question + [questionswords2int['<PAD>']] * (25 - len(question))\n",
        "    fake_batch = np.zeros((batch_size, 25))\n",
        "    fake_batch[0] = question\n",
        "    predicted_answer = session.run(test_predictions, {inputs: fake_batch, keep_prob: 0.5})[0]\n",
        "    answer = ''\n",
        "    for i in np.argmax(predicted_answer, 1):\n",
        "        if answersints2word[i] == 'i':\n",
        "            token = ' I'\n",
        "        elif answersints2word[i] == '<EOS>':\n",
        "            token = '.'\n",
        "        elif answersints2word[i] == '<OUT>':\n",
        "            token = 'out'\n",
        "        else:\n",
        "            token = ' ' + answersints2word[i]\n",
        "        answer += token\n",
        "        if token == '.':\n",
        "            break\n",
        "    print('ChatBot: ' + answer)"
      ],
      "metadata": {
        "id": "4w84FdJHiE19"
      },
      "execution_count": null,
      "outputs": []
    },
    {
      "cell_type": "code",
      "source": [],
      "metadata": {
        "id": "q1MwlP7DiV97"
      },
      "execution_count": null,
      "outputs": []
    },
    {
      "cell_type": "code",
      "source": [],
      "metadata": {
        "id": "SUA21YBCgBCo"
      },
      "execution_count": null,
      "outputs": []
    }
  ]
}